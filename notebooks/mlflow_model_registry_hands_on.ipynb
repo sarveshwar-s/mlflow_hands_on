{
 "cells": [
  {
   "cell_type": "markdown",
   "id": "a9b09e2d",
   "metadata": {},
   "source": [
    "In this practical work, we will be exploring some functionalities of the *MLflow model registry* like adding an MLflow Model to the Model Registry, transitioning it between different stages, etc\n",
    "\n",
    "We will be doing the following steps:\n",
    "\n",
    "1. Setting up data\n",
    "2. Creating a training pipeline\n",
    "3. Tracking the training metadata and artifcats using [*MLflow Tracking*](https://www.mlflow.org/docs/latest/tracking.html)\n",
    "4. MLflow registry hands-on\n",
    "5. Retraining pipeline\n",
    "\n",
    "To go deeper on the *MLflow model registry*, check out [the official documentation](https://www.mlflow.org/docs/latest/model-registry.html)"
   ]
  },
  {
   "cell_type": "code",
   "execution_count": 140,
   "id": "institutional-photography",
   "metadata": {},
   "outputs": [],
   "source": [
    "import numpy as np\n",
    "import pandas as pd\n",
    "import matplotlib.pyplot as plt\n",
    "import mlflow\n",
    "from mlflow.tracking import MlflowClient\n",
    "\n",
    "from sklearn.model_selection import train_test_split\n",
    "from sklearn.ensemble import RandomForestRegressor\n",
    "from sklearn.metrics import mean_squared_error\n",
    "\n",
    "np.random.seed(42)\n",
    "\n",
    "plt.rcParams[\"figure.figsize\"] = [7, 5]\n",
    "pd.set_option(\"display.max_columns\", None)"
   ]
  },
  {
   "cell_type": "markdown",
   "id": "stainless-arrest",
   "metadata": {},
   "source": [
    "# 1. Data setup"
   ]
  },
  {
   "cell_type": "code",
   "execution_count": 141,
   "id": "deadly-capability",
   "metadata": {
    "scrolled": false
   },
   "outputs": [
    {
     "data": {
      "text/html": [
       "<div>\n",
       "<style scoped>\n",
       "    .dataframe tbody tr th:only-of-type {\n",
       "        vertical-align: middle;\n",
       "    }\n",
       "\n",
       "    .dataframe tbody tr th {\n",
       "        vertical-align: top;\n",
       "    }\n",
       "\n",
       "    .dataframe thead th {\n",
       "        text-align: right;\n",
       "    }\n",
       "</style>\n",
       "<table border=\"1\" class=\"dataframe\">\n",
       "  <thead>\n",
       "    <tr style=\"text-align: right;\">\n",
       "      <th></th>\n",
       "      <th>AT</th>\n",
       "      <th>V</th>\n",
       "      <th>AP</th>\n",
       "      <th>RH</th>\n",
       "      <th>PE</th>\n",
       "    </tr>\n",
       "  </thead>\n",
       "  <tbody>\n",
       "    <tr>\n",
       "      <th>0</th>\n",
       "      <td>14.96</td>\n",
       "      <td>41.76</td>\n",
       "      <td>1024.07</td>\n",
       "      <td>73.17</td>\n",
       "      <td>463.26</td>\n",
       "    </tr>\n",
       "    <tr>\n",
       "      <th>1</th>\n",
       "      <td>25.18</td>\n",
       "      <td>62.96</td>\n",
       "      <td>1020.04</td>\n",
       "      <td>59.08</td>\n",
       "      <td>444.37</td>\n",
       "    </tr>\n",
       "    <tr>\n",
       "      <th>2</th>\n",
       "      <td>5.11</td>\n",
       "      <td>39.40</td>\n",
       "      <td>1012.16</td>\n",
       "      <td>92.14</td>\n",
       "      <td>488.56</td>\n",
       "    </tr>\n",
       "    <tr>\n",
       "      <th>3</th>\n",
       "      <td>20.86</td>\n",
       "      <td>57.32</td>\n",
       "      <td>1010.24</td>\n",
       "      <td>76.64</td>\n",
       "      <td>446.48</td>\n",
       "    </tr>\n",
       "    <tr>\n",
       "      <th>4</th>\n",
       "      <td>10.82</td>\n",
       "      <td>37.50</td>\n",
       "      <td>1009.23</td>\n",
       "      <td>96.62</td>\n",
       "      <td>473.90</td>\n",
       "    </tr>\n",
       "  </tbody>\n",
       "</table>\n",
       "</div>"
      ],
      "text/plain": [
       "      AT      V       AP     RH      PE\n",
       "0  14.96  41.76  1024.07  73.17  463.26\n",
       "1  25.18  62.96  1020.04  59.08  444.37\n",
       "2   5.11  39.40  1012.16  92.14  488.56\n",
       "3  20.86  57.32  1010.24  76.64  446.48\n",
       "4  10.82  37.50  1009.23  96.62  473.90"
      ]
     },
     "execution_count": 141,
     "metadata": {},
     "output_type": "execute_result"
    }
   ],
   "source": [
    "df = pd.read_csv(\"../data/power_plants.csv\")\n",
    "df.head()"
   ]
  },
  {
   "cell_type": "markdown",
   "id": "cardiovascular-tissue",
   "metadata": {},
   "source": [
    "We want to simulate having multiple models in production at the same time (one model per IoT device):\n",
    "- Create a new column `device_id` with the IoT device id by assigning a random number (device_id) between 1 and 4:"
   ]
  },
  {
   "cell_type": "code",
   "execution_count": 142,
   "id": "warming-finance",
   "metadata": {},
   "outputs": [
    {
     "data": {
      "text/html": [
       "<div>\n",
       "<style scoped>\n",
       "    .dataframe tbody tr th:only-of-type {\n",
       "        vertical-align: middle;\n",
       "    }\n",
       "\n",
       "    .dataframe tbody tr th {\n",
       "        vertical-align: top;\n",
       "    }\n",
       "\n",
       "    .dataframe thead th {\n",
       "        text-align: right;\n",
       "    }\n",
       "</style>\n",
       "<table border=\"1\" class=\"dataframe\">\n",
       "  <thead>\n",
       "    <tr style=\"text-align: right;\">\n",
       "      <th></th>\n",
       "      <th>AT</th>\n",
       "      <th>V</th>\n",
       "      <th>AP</th>\n",
       "      <th>RH</th>\n",
       "      <th>PE</th>\n",
       "      <th>device_id</th>\n",
       "    </tr>\n",
       "  </thead>\n",
       "  <tbody>\n",
       "    <tr>\n",
       "      <th>0</th>\n",
       "      <td>14.96</td>\n",
       "      <td>41.76</td>\n",
       "      <td>1024.07</td>\n",
       "      <td>73.17</td>\n",
       "      <td>463.26</td>\n",
       "      <td>3</td>\n",
       "    </tr>\n",
       "    <tr>\n",
       "      <th>1</th>\n",
       "      <td>25.18</td>\n",
       "      <td>62.96</td>\n",
       "      <td>1020.04</td>\n",
       "      <td>59.08</td>\n",
       "      <td>444.37</td>\n",
       "      <td>4</td>\n",
       "    </tr>\n",
       "    <tr>\n",
       "      <th>2</th>\n",
       "      <td>5.11</td>\n",
       "      <td>39.40</td>\n",
       "      <td>1012.16</td>\n",
       "      <td>92.14</td>\n",
       "      <td>488.56</td>\n",
       "      <td>1</td>\n",
       "    </tr>\n",
       "    <tr>\n",
       "      <th>3</th>\n",
       "      <td>20.86</td>\n",
       "      <td>57.32</td>\n",
       "      <td>1010.24</td>\n",
       "      <td>76.64</td>\n",
       "      <td>446.48</td>\n",
       "      <td>3</td>\n",
       "    </tr>\n",
       "    <tr>\n",
       "      <th>4</th>\n",
       "      <td>10.82</td>\n",
       "      <td>37.50</td>\n",
       "      <td>1009.23</td>\n",
       "      <td>96.62</td>\n",
       "      <td>473.90</td>\n",
       "      <td>3</td>\n",
       "    </tr>\n",
       "  </tbody>\n",
       "</table>\n",
       "</div>"
      ],
      "text/plain": [
       "      AT      V       AP     RH      PE  device_id\n",
       "0  14.96  41.76  1024.07  73.17  463.26          3\n",
       "1  25.18  62.96  1020.04  59.08  444.37          4\n",
       "2   5.11  39.40  1012.16  92.14  488.56          1\n",
       "3  20.86  57.32  1010.24  76.64  446.48          3\n",
       "4  10.82  37.50  1009.23  96.62  473.90          3"
      ]
     },
     "execution_count": 142,
     "metadata": {},
     "output_type": "execute_result"
    }
   ],
   "source": [
    "import numpy as np\n",
    "\n",
    "df[\"device_id\"] = np.random.randint(1, 5, size=len(df))\n",
    "df.head()"
   ]
  },
  {
   "cell_type": "code",
   "execution_count": 22,
   "id": "permanent-reasoning",
   "metadata": {},
   "outputs": [
    {
     "data": {
      "text/plain": [
       "1    12081\n",
       "4    11995\n",
       "3    11897\n",
       "2    11867\n",
       "Name: device_id, dtype: int64"
      ]
     },
     "execution_count": 22,
     "metadata": {},
     "output_type": "execute_result"
    }
   ],
   "source": [
    "df.device_id.value_counts()"
   ]
  },
  {
   "cell_type": "markdown",
   "id": "described-addiction",
   "metadata": {},
   "source": [
    "# 2. Model training"
   ]
  },
  {
   "cell_type": "markdown",
   "id": "hungarian-point",
   "metadata": {},
   "source": [
    "## 2.1. Train models for the different IoT devices"
   ]
  },
  {
   "cell_type": "markdown",
   "id": "nervous-daisy",
   "metadata": {},
   "source": [
    "### Train model for a single IoT device:\n",
    "Create a function that trains a model for a single device. It should take the device dataframe as input an do the following steps:\n",
    "- Split the data into training and test set\n",
    "- Trains a `RandomForestRegressor`\n",
    "- Evaluates it with `MAE`, `MSE` and `RMSE`"
   ]
  },
  {
   "cell_type": "code",
   "execution_count": 5,
   "id": "proprietary-seven",
   "metadata": {
    "scrolled": true
   },
   "outputs": [],
   "source": [
    "from sklearn.metrics import mean_absolute_error, mean_squared_error\n",
    "\n",
    "def train_model_for_an_iot_device(device_df: pd.DataFrame) -> None:\n",
    "    \"\"\"Trains a model for a single device\"\"\"\n",
    "    device_id = device_df.iloc[0].device_id\n",
    "    \n",
    "    # Split data\n",
    "    X = device_df[[\"AT\", \"V\", \"AP\", \"RH\"]]\n",
    "    y = device_df[\"PE\"]\n",
    "    X_train, X_test, y_train, y_test = train_test_split(X, y, test_size=0.2, random_state=42)\n",
    "    \n",
    "    # Fit model\n",
    "    model = RandomForestRegressor()\n",
    "    model.fit(X_train, y_train)\n",
    "\n",
    "    # Evaluate the model\n",
    "    y_pred = model.predict(X_test)\n",
    "    \n",
    "    test_mae = mean_absolute_error(y_test, y_pred)\n",
    "    test_mse = mean_squared_error(y_test, y_pred)\n",
    "    test_rmse = mean_squared_error(y_test, y_pred, squared=False)"
   ]
  },
  {
   "cell_type": "markdown",
   "id": "cardiac-permission",
   "metadata": {},
   "source": [
    "### Train models for all the devices\n",
    "\n",
    "Now that we can train a model for a given IoT device, let's orchestrate the training for all device models given the full dataset (sensor measures from all the IoT devices).\n",
    "\n",
    "* Create a function `train_models_for_all_iot_devices` that will take the full data and call the `train_model_for_an_iot_device` function with the corresponding device data"
   ]
  },
  {
   "cell_type": "code",
   "execution_count": 6,
   "id": "cleared-tourist",
   "metadata": {},
   "outputs": [],
   "source": [
    "def train_models_for_all_iot_devices(data: pd.DataFrame) -> None:\n",
    "    for device_id in data.device_id.unique():\n",
    "        iot_device_df = data[data.device_id == device_id]\n",
    "        train_model_for_an_iot_device(iot_device_df)"
   ]
  },
  {
   "cell_type": "code",
   "execution_count": 7,
   "id": "hidden-journal",
   "metadata": {},
   "outputs": [],
   "source": [
    "train_models_for_all_iot_devices(df)"
   ]
  },
  {
   "cell_type": "markdown",
   "id": "fiscal-elements",
   "metadata": {},
   "source": [
    "# 3. Tracking the training metadata and Artifacts using MLflow Tracking"
   ]
  },
  {
   "cell_type": "markdown",
   "id": "nuclear-station",
   "metadata": {},
   "source": [
    "`mlflow server --backend-store-uri sqlite:////tmp/mlruns.db --default-artifact-root /tmp/mlruns`"
   ]
  },
  {
   "cell_type": "code",
   "execution_count": 149,
   "id": "useful-castle",
   "metadata": {},
   "outputs": [],
   "source": [
    "mlflow.set_tracking_uri(\"http://127.0.0.1:5000\")"
   ]
  },
  {
   "cell_type": "code",
   "execution_count": 150,
   "id": "annoying-truck",
   "metadata": {},
   "outputs": [
    {
     "data": {
      "text/plain": [
       "<Experiment: artifact_location='/tmp/mlruns/1', creation_time=1671180459441, experiment_id='1', last_update_time=1671180459441, lifecycle_stage='active', name='Iot device model training', tags={}>"
      ]
     },
     "execution_count": 150,
     "metadata": {},
     "output_type": "execute_result"
    }
   ],
   "source": [
    "experiment_name = \"Iot device model training\"\n",
    "\n",
    "mlflow.set_experiment(experiment_name)"
   ]
  },
  {
   "cell_type": "code",
   "execution_count": 10,
   "id": "musical-cricket",
   "metadata": {},
   "outputs": [],
   "source": [
    "from sklearn.metrics import mean_absolute_error, mean_squared_error\n",
    "\n",
    "def train_model_for_an_iot_device(device_df: pd.DataFrame) -> None:\n",
    "    \"\"\" Trains a model for a single device \"\"\"\n",
    "    device_id = device_df.iloc[0].device_id\n",
    "    \n",
    "    with mlflow.start_run():\n",
    "        mlflow.sklearn.autolog()\n",
    "\n",
    "        # Split data\n",
    "        X = device_df[[\"AT\", \"V\", \"AP\", \"RH\"]]\n",
    "        y = device_df[\"PE\"]\n",
    "        X_train, X_test, y_train, y_test = train_test_split(X, y, test_size=0.2, random_state=42)\n",
    "        mlflow.log_params(\n",
    "            {\"nb_sample\": len(X), \"nb_training_samples\": len(X_train), \"nb_testing_samples\": len(X_test)})\n",
    "\n",
    "        # Fit model\n",
    "        model = RandomForestRegressor()\n",
    "        model.fit(X_train, y_train)\n",
    "\n",
    "        # Evaluate the model\n",
    "        y_pred = model.predict(X_test)\n",
    "\n",
    "        test_mae = mean_absolute_error(y_test, y_pred)\n",
    "        test_mse = mean_squared_error(y_test, y_pred)\n",
    "        test_rmse = mean_squared_error(y_test, y_pred, squared=False)\n",
    "        mlflow.log_metrics({\"test_mae\": test_mae, \"test_mse\": test_mse, \"test_rmse\": test_rmse})"
   ]
  },
  {
   "cell_type": "code",
   "execution_count": 11,
   "id": "bridal-uruguay",
   "metadata": {},
   "outputs": [],
   "source": [
    "def train_models_for_all_iot_devices(data: pd.DataFrame) -> None:\n",
    "    for device_id in data.device_id.unique():\n",
    "        iot_device_df = data[data.device_id == device_id]\n",
    "        train_model_for_an_iot_device(iot_device_df)"
   ]
  },
  {
   "cell_type": "code",
   "execution_count": 12,
   "id": "uniform-envelope",
   "metadata": {
    "scrolled": false
   },
   "outputs": [
    {
     "name": "stderr",
     "output_type": "stream",
     "text": [
      "2022/12/16 09:48:24 WARNING mlflow.utils.autologging_utils: MLflow autologging encountered a warning: \"/Users/tinyclues/opt/miniconda3/envs/mlflow/lib/python3.10/site-packages/_distutils_hack/__init__.py:33: UserWarning: Setuptools is replacing distutils.\"\n"
     ]
    }
   ],
   "source": [
    "train_models_for_all_iot_devices(df)"
   ]
  },
  {
   "cell_type": "markdown",
   "id": "amended-bathroom",
   "metadata": {},
   "source": [
    "## Train a model each month"
   ]
  },
  {
   "cell_type": "code",
   "execution_count": 13,
   "id": "younger-tactics",
   "metadata": {},
   "outputs": [],
   "source": [
    "from sklearn.metrics import mean_absolute_error, mean_squared_error\n",
    "\n",
    "def train_model_for_an_iot_device(device_df: pd.DataFrame, month_name: str) -> None:\n",
    "    \"\"\" Trains a model for a single device \"\"\"\n",
    "    device_id = int(device_df.iloc[0].device_id)\n",
    "    \n",
    "    with mlflow.start_run(nested=True, run_name=f\"device {device_id}\"):\n",
    "        mlflow.log_params({\"device_id\": device_id, \"month\": month_name})\n",
    "        \n",
    "        \n",
    "        mlflow.sklearn.autolog()\n",
    "\n",
    "        # Split data\n",
    "        X = device_df[[\"AT\", \"V\", \"AP\", \"RH\"]]\n",
    "        y = device_df[\"PE\"]\n",
    "        X_train, X_test, y_train, y_test = train_test_split(X, y, test_size=0.2, random_state=42)\n",
    "        mlflow.log_params(\n",
    "            {\"nb_sample\": len(X), \"nb_training_samples\": len(X_train), \"nb_testing_samples\": len(X_test)})\n",
    "\n",
    "        # Fit model\n",
    "        model = RandomForestRegressor()\n",
    "        model.fit(X_train, y_train)\n",
    "\n",
    "        # Evaluate the model\n",
    "        y_pred = model.predict(X_test)\n",
    "\n",
    "        test_mae = mean_absolute_error(y_test, y_pred)\n",
    "        test_mse = mean_squared_error(y_test, y_pred)\n",
    "        test_rmse = mean_squared_error(y_test, y_pred, squared=False)\n",
    "        mlflow.log_metrics({\"test_mae\": test_mae, \"test_mse\": test_mse, \"test_rmse\": test_rmse})"
   ]
  },
  {
   "cell_type": "code",
   "execution_count": 14,
   "id": "civilian-manner",
   "metadata": {},
   "outputs": [],
   "source": [
    "def train_models_for_all_iot_devices(data: pd.DataFrame, month_name: str) -> None:\n",
    "    with mlflow.start_run(run_name=month_name):\n",
    "        for device_id in data.device_id.unique():\n",
    "            iot_device_df = data[data.device_id == device_id]\n",
    "            train_model_for_an_iot_device(iot_device_df, month_name)"
   ]
  },
  {
   "cell_type": "code",
   "execution_count": 38,
   "id": "convertible-theology",
   "metadata": {},
   "outputs": [],
   "source": [
    "train_models_for_all_iot_devices(df, \"june\")"
   ]
  },
  {
   "cell_type": "code",
   "execution_count": 16,
   "id": "intelligent-potter",
   "metadata": {},
   "outputs": [],
   "source": [
    "train_models_for_all_iot_devices(df, \"july\")"
   ]
  },
  {
   "cell_type": "code",
   "execution_count": 17,
   "id": "important-source",
   "metadata": {},
   "outputs": [
    {
     "name": "stderr",
     "output_type": "stream",
     "text": [
      "2022/12/16 09:50:22 WARNING mlflow.utils.environment: Encountered an unexpected error while inferring pip requirements (model URI: /var/folders/qh/cbz8lgxn48g_00mb2gcbkcp40000gn/T/tmp7sp5h60l/model/model.pkl, flavor: sklearn), fall back to return ['scikit-learn==1.1.3', 'cloudpickle==2.2.0']. Set logging level to DEBUG to see the full traceback.\n"
     ]
    }
   ],
   "source": [
    "train_models_for_all_iot_devices(df, \"august\")"
   ]
  },
  {
   "cell_type": "markdown",
   "id": "6816d543",
   "metadata": {},
   "source": [
    "# 4. MLflow registry hands-on"
   ]
  },
  {
   "cell_type": "markdown",
   "id": "493f5b00",
   "metadata": {},
   "source": [
    "## 4.1. Register MLflow Model in the MLflow registry\n",
    "\n",
    "Documentation => https://mlflow.org/docs/latest/model-registry.html#adding-an-mlflow-model-to-the-model-registry"
   ]
  },
  {
   "cell_type": "markdown",
   "id": "76372f34",
   "metadata": {},
   "source": [
    "- Get all the runs for the current experiment from mlflow (runs from all months)"
   ]
  },
  {
   "cell_type": "code",
   "execution_count": 143,
   "id": "00c1fd00",
   "metadata": {},
   "outputs": [
    {
     "data": {
      "text/html": [
       "<div>\n",
       "<style scoped>\n",
       "    .dataframe tbody tr th:only-of-type {\n",
       "        vertical-align: middle;\n",
       "    }\n",
       "\n",
       "    .dataframe tbody tr th {\n",
       "        vertical-align: top;\n",
       "    }\n",
       "\n",
       "    .dataframe thead th {\n",
       "        text-align: right;\n",
       "    }\n",
       "</style>\n",
       "<table border=\"1\" class=\"dataframe\">\n",
       "  <thead>\n",
       "    <tr style=\"text-align: right;\">\n",
       "      <th></th>\n",
       "      <th>run_id</th>\n",
       "      <th>experiment_id</th>\n",
       "      <th>status</th>\n",
       "      <th>artifact_uri</th>\n",
       "      <th>start_time</th>\n",
       "      <th>end_time</th>\n",
       "      <th>metrics.test_rmse</th>\n",
       "      <th>metrics.training_r2_score</th>\n",
       "      <th>metrics.test_mae</th>\n",
       "      <th>metrics.training_mse</th>\n",
       "      <th>metrics.training_mae</th>\n",
       "      <th>metrics.mean_absolute_error_X_test</th>\n",
       "      <th>metrics.mean_squared_error_X_test</th>\n",
       "      <th>metrics.training_score</th>\n",
       "      <th>metrics.mean_squared_error-2_X_test</th>\n",
       "      <th>metrics.training_rmse</th>\n",
       "      <th>metrics.test_mse</th>\n",
       "      <th>params.max_samples</th>\n",
       "      <th>params.criterion</th>\n",
       "      <th>params.device_id</th>\n",
       "      <th>params.warm_start</th>\n",
       "      <th>params.n_jobs</th>\n",
       "      <th>params.bootstrap</th>\n",
       "      <th>params.oob_score</th>\n",
       "      <th>params.max_leaf_nodes</th>\n",
       "      <th>params.nb_sample</th>\n",
       "      <th>params.month</th>\n",
       "      <th>params.verbose</th>\n",
       "      <th>params.nb_training_samples</th>\n",
       "      <th>params.min_impurity_decrease</th>\n",
       "      <th>params.random_state</th>\n",
       "      <th>params.min_weight_fraction_leaf</th>\n",
       "      <th>params.min_samples_leaf</th>\n",
       "      <th>params.ccp_alpha</th>\n",
       "      <th>params.max_depth</th>\n",
       "      <th>params.n_estimators</th>\n",
       "      <th>params.max_features</th>\n",
       "      <th>params.nb_testing_samples</th>\n",
       "      <th>params.min_samples_split</th>\n",
       "      <th>tags.mlflow.runName</th>\n",
       "      <th>tags.estimator_class</th>\n",
       "      <th>tags.mlflow.log-model.history</th>\n",
       "      <th>tags.mlflow.user</th>\n",
       "      <th>tags.mlflow.source.name</th>\n",
       "      <th>tags.estimator_name</th>\n",
       "      <th>tags.mlflow.parentRunId</th>\n",
       "      <th>tags.mlflow.source.type</th>\n",
       "    </tr>\n",
       "  </thead>\n",
       "  <tbody>\n",
       "    <tr>\n",
       "      <th>3</th>\n",
       "      <td>9be1ab4d8eb0472bb56fee952ff42066</td>\n",
       "      <td>1</td>\n",
       "      <td>FINISHED</td>\n",
       "      <td>/tmp/mlruns/1/9be1ab4d8eb0472bb56fee952ff42066...</td>\n",
       "      <td>2022-12-16 11:11:53.921000+00:00</td>\n",
       "      <td>2022-12-16 11:12:02.221000+00:00</td>\n",
       "      <td>2.233147</td>\n",
       "      <td>0.997256</td>\n",
       "      <td>1.345774</td>\n",
       "      <td>0.791433</td>\n",
       "      <td>0.535969</td>\n",
       "      <td>1.345774</td>\n",
       "      <td>4.986947</td>\n",
       "      <td>0.997256</td>\n",
       "      <td>2.233147</td>\n",
       "      <td>0.889625</td>\n",
       "      <td>4.986947</td>\n",
       "      <td>None</td>\n",
       "      <td>squared_error</td>\n",
       "      <td>3</td>\n",
       "      <td>False</td>\n",
       "      <td>None</td>\n",
       "      <td>True</td>\n",
       "      <td>False</td>\n",
       "      <td>None</td>\n",
       "      <td>11897</td>\n",
       "      <td>june</td>\n",
       "      <td>0</td>\n",
       "      <td>9517</td>\n",
       "      <td>0.0</td>\n",
       "      <td>None</td>\n",
       "      <td>0.0</td>\n",
       "      <td>1</td>\n",
       "      <td>0.0</td>\n",
       "      <td>None</td>\n",
       "      <td>100</td>\n",
       "      <td>1.0</td>\n",
       "      <td>2380</td>\n",
       "      <td>2</td>\n",
       "      <td>device 3</td>\n",
       "      <td>sklearn.ensemble._forest.RandomForestRegressor</td>\n",
       "      <td>[{\"run_id\": \"9be1ab4d8eb0472bb56fee952ff42066\"...</td>\n",
       "      <td>tinyclues</td>\n",
       "      <td>/Users/tinyclues/opt/miniconda3/envs/mlflow/li...</td>\n",
       "      <td>RandomForestRegressor</td>\n",
       "      <td>2754432b207a4654a4658e2a321c2653</td>\n",
       "      <td>LOCAL</td>\n",
       "    </tr>\n",
       "    <tr>\n",
       "      <th>22</th>\n",
       "      <td>596188bf19d447a794cca59b80e63e9c</td>\n",
       "      <td>1</td>\n",
       "      <td>FINISHED</td>\n",
       "      <td>/tmp/mlruns/1/596188bf19d447a794cca59b80e63e9c...</td>\n",
       "      <td>2022-12-16 08:48:25.132000+00:00</td>\n",
       "      <td>2022-12-16 08:48:32.271000+00:00</td>\n",
       "      <td>2.101418</td>\n",
       "      <td>0.997125</td>\n",
       "      <td>1.319873</td>\n",
       "      <td>0.836200</td>\n",
       "      <td>0.546136</td>\n",
       "      <td>NaN</td>\n",
       "      <td>NaN</td>\n",
       "      <td>0.997125</td>\n",
       "      <td>NaN</td>\n",
       "      <td>0.914440</td>\n",
       "      <td>4.415960</td>\n",
       "      <td>None</td>\n",
       "      <td>squared_error</td>\n",
       "      <td>None</td>\n",
       "      <td>False</td>\n",
       "      <td>None</td>\n",
       "      <td>True</td>\n",
       "      <td>False</td>\n",
       "      <td>None</td>\n",
       "      <td>11995</td>\n",
       "      <td>None</td>\n",
       "      <td>0</td>\n",
       "      <td>9596</td>\n",
       "      <td>0.0</td>\n",
       "      <td>None</td>\n",
       "      <td>0.0</td>\n",
       "      <td>1</td>\n",
       "      <td>0.0</td>\n",
       "      <td>None</td>\n",
       "      <td>100</td>\n",
       "      <td>1.0</td>\n",
       "      <td>2399</td>\n",
       "      <td>2</td>\n",
       "      <td>bald-panda-811</td>\n",
       "      <td>sklearn.ensemble._forest.RandomForestRegressor</td>\n",
       "      <td>[{\"run_id\": \"596188bf19d447a794cca59b80e63e9c\"...</td>\n",
       "      <td>tinyclues</td>\n",
       "      <td>/Users/tinyclues/opt/miniconda3/envs/mlflow/li...</td>\n",
       "      <td>RandomForestRegressor</td>\n",
       "      <td>None</td>\n",
       "      <td>LOCAL</td>\n",
       "    </tr>\n",
       "    <tr>\n",
       "      <th>18</th>\n",
       "      <td>065803583559488cbe392a404bbef287</td>\n",
       "      <td>1</td>\n",
       "      <td>FINISHED</td>\n",
       "      <td>/tmp/mlruns/1/065803583559488cbe392a404bbef287...</td>\n",
       "      <td>2022-12-16 08:48:46.739000+00:00</td>\n",
       "      <td>2022-12-16 08:48:53.637000+00:00</td>\n",
       "      <td>2.237516</td>\n",
       "      <td>0.997298</td>\n",
       "      <td>1.350027</td>\n",
       "      <td>0.779482</td>\n",
       "      <td>0.539185</td>\n",
       "      <td>1.350027</td>\n",
       "      <td>5.006476</td>\n",
       "      <td>0.997298</td>\n",
       "      <td>2.237516</td>\n",
       "      <td>0.882883</td>\n",
       "      <td>5.006476</td>\n",
       "      <td>None</td>\n",
       "      <td>squared_error</td>\n",
       "      <td>3</td>\n",
       "      <td>False</td>\n",
       "      <td>None</td>\n",
       "      <td>True</td>\n",
       "      <td>False</td>\n",
       "      <td>None</td>\n",
       "      <td>11897</td>\n",
       "      <td>june</td>\n",
       "      <td>0</td>\n",
       "      <td>9517</td>\n",
       "      <td>0.0</td>\n",
       "      <td>None</td>\n",
       "      <td>0.0</td>\n",
       "      <td>1</td>\n",
       "      <td>0.0</td>\n",
       "      <td>None</td>\n",
       "      <td>100</td>\n",
       "      <td>1.0</td>\n",
       "      <td>2380</td>\n",
       "      <td>2</td>\n",
       "      <td>device 3</td>\n",
       "      <td>sklearn.ensemble._forest.RandomForestRegressor</td>\n",
       "      <td>[{\"run_id\": \"065803583559488cbe392a404bbef287\"...</td>\n",
       "      <td>tinyclues</td>\n",
       "      <td>/Users/tinyclues/opt/miniconda3/envs/mlflow/li...</td>\n",
       "      <td>RandomForestRegressor</td>\n",
       "      <td>48a5fdf5dc7048ad96d480591f8a578f</td>\n",
       "      <td>LOCAL</td>\n",
       "    </tr>\n",
       "    <tr>\n",
       "      <th>11</th>\n",
       "      <td>267bd077cb394143a1f8af377609e5ae</td>\n",
       "      <td>1</td>\n",
       "      <td>FINISHED</td>\n",
       "      <td>/tmp/mlruns/1/267bd077cb394143a1f8af377609e5ae...</td>\n",
       "      <td>2022-12-16 08:49:30.230000+00:00</td>\n",
       "      <td>2022-12-16 08:49:39.208000+00:00</td>\n",
       "      <td>2.188679</td>\n",
       "      <td>0.997260</td>\n",
       "      <td>1.401955</td>\n",
       "      <td>0.807220</td>\n",
       "      <td>0.527504</td>\n",
       "      <td>1.401955</td>\n",
       "      <td>4.790314</td>\n",
       "      <td>0.997260</td>\n",
       "      <td>2.188679</td>\n",
       "      <td>0.898454</td>\n",
       "      <td>4.790314</td>\n",
       "      <td>None</td>\n",
       "      <td>squared_error</td>\n",
       "      <td>1</td>\n",
       "      <td>False</td>\n",
       "      <td>None</td>\n",
       "      <td>True</td>\n",
       "      <td>False</td>\n",
       "      <td>None</td>\n",
       "      <td>12081</td>\n",
       "      <td>july</td>\n",
       "      <td>0</td>\n",
       "      <td>9664</td>\n",
       "      <td>0.0</td>\n",
       "      <td>None</td>\n",
       "      <td>0.0</td>\n",
       "      <td>1</td>\n",
       "      <td>0.0</td>\n",
       "      <td>None</td>\n",
       "      <td>100</td>\n",
       "      <td>1.0</td>\n",
       "      <td>2417</td>\n",
       "      <td>2</td>\n",
       "      <td>device 1</td>\n",
       "      <td>sklearn.ensemble._forest.RandomForestRegressor</td>\n",
       "      <td>[{\"run_id\": \"267bd077cb394143a1f8af377609e5ae\"...</td>\n",
       "      <td>tinyclues</td>\n",
       "      <td>/Users/tinyclues/opt/miniconda3/envs/mlflow/li...</td>\n",
       "      <td>RandomForestRegressor</td>\n",
       "      <td>c642630ba3414c8ca53e7d4a9a0e0a5f</td>\n",
       "      <td>LOCAL</td>\n",
       "    </tr>\n",
       "    <tr>\n",
       "      <th>19</th>\n",
       "      <td>48a5fdf5dc7048ad96d480591f8a578f</td>\n",
       "      <td>1</td>\n",
       "      <td>FINISHED</td>\n",
       "      <td>/tmp/mlruns/1/48a5fdf5dc7048ad96d480591f8a578f...</td>\n",
       "      <td>2022-12-16 08:48:46.720000+00:00</td>\n",
       "      <td>2022-12-16 08:49:15.300000+00:00</td>\n",
       "      <td>NaN</td>\n",
       "      <td>NaN</td>\n",
       "      <td>NaN</td>\n",
       "      <td>NaN</td>\n",
       "      <td>NaN</td>\n",
       "      <td>NaN</td>\n",
       "      <td>NaN</td>\n",
       "      <td>NaN</td>\n",
       "      <td>NaN</td>\n",
       "      <td>NaN</td>\n",
       "      <td>NaN</td>\n",
       "      <td>None</td>\n",
       "      <td>None</td>\n",
       "      <td>None</td>\n",
       "      <td>None</td>\n",
       "      <td>None</td>\n",
       "      <td>None</td>\n",
       "      <td>None</td>\n",
       "      <td>None</td>\n",
       "      <td>None</td>\n",
       "      <td>None</td>\n",
       "      <td>None</td>\n",
       "      <td>None</td>\n",
       "      <td>None</td>\n",
       "      <td>None</td>\n",
       "      <td>None</td>\n",
       "      <td>None</td>\n",
       "      <td>None</td>\n",
       "      <td>None</td>\n",
       "      <td>None</td>\n",
       "      <td>None</td>\n",
       "      <td>None</td>\n",
       "      <td>None</td>\n",
       "      <td>june</td>\n",
       "      <td>None</td>\n",
       "      <td>None</td>\n",
       "      <td>tinyclues</td>\n",
       "      <td>/Users/tinyclues/opt/miniconda3/envs/mlflow/li...</td>\n",
       "      <td>None</td>\n",
       "      <td>None</td>\n",
       "      <td>LOCAL</td>\n",
       "    </tr>\n",
       "  </tbody>\n",
       "</table>\n",
       "</div>"
      ],
      "text/plain": [
       "                              run_id experiment_id    status  \\\n",
       "3   9be1ab4d8eb0472bb56fee952ff42066             1  FINISHED   \n",
       "22  596188bf19d447a794cca59b80e63e9c             1  FINISHED   \n",
       "18  065803583559488cbe392a404bbef287             1  FINISHED   \n",
       "11  267bd077cb394143a1f8af377609e5ae             1  FINISHED   \n",
       "19  48a5fdf5dc7048ad96d480591f8a578f             1  FINISHED   \n",
       "\n",
       "                                         artifact_uri  \\\n",
       "3   /tmp/mlruns/1/9be1ab4d8eb0472bb56fee952ff42066...   \n",
       "22  /tmp/mlruns/1/596188bf19d447a794cca59b80e63e9c...   \n",
       "18  /tmp/mlruns/1/065803583559488cbe392a404bbef287...   \n",
       "11  /tmp/mlruns/1/267bd077cb394143a1f8af377609e5ae...   \n",
       "19  /tmp/mlruns/1/48a5fdf5dc7048ad96d480591f8a578f...   \n",
       "\n",
       "                         start_time                         end_time  \\\n",
       "3  2022-12-16 11:11:53.921000+00:00 2022-12-16 11:12:02.221000+00:00   \n",
       "22 2022-12-16 08:48:25.132000+00:00 2022-12-16 08:48:32.271000+00:00   \n",
       "18 2022-12-16 08:48:46.739000+00:00 2022-12-16 08:48:53.637000+00:00   \n",
       "11 2022-12-16 08:49:30.230000+00:00 2022-12-16 08:49:39.208000+00:00   \n",
       "19 2022-12-16 08:48:46.720000+00:00 2022-12-16 08:49:15.300000+00:00   \n",
       "\n",
       "    metrics.test_rmse  metrics.training_r2_score  metrics.test_mae  \\\n",
       "3            2.233147                   0.997256          1.345774   \n",
       "22           2.101418                   0.997125          1.319873   \n",
       "18           2.237516                   0.997298          1.350027   \n",
       "11           2.188679                   0.997260          1.401955   \n",
       "19                NaN                        NaN               NaN   \n",
       "\n",
       "    metrics.training_mse  metrics.training_mae  \\\n",
       "3               0.791433              0.535969   \n",
       "22              0.836200              0.546136   \n",
       "18              0.779482              0.539185   \n",
       "11              0.807220              0.527504   \n",
       "19                   NaN                   NaN   \n",
       "\n",
       "    metrics.mean_absolute_error_X_test  metrics.mean_squared_error_X_test  \\\n",
       "3                             1.345774                           4.986947   \n",
       "22                                 NaN                                NaN   \n",
       "18                            1.350027                           5.006476   \n",
       "11                            1.401955                           4.790314   \n",
       "19                                 NaN                                NaN   \n",
       "\n",
       "    metrics.training_score  metrics.mean_squared_error-2_X_test  \\\n",
       "3                 0.997256                             2.233147   \n",
       "22                0.997125                                  NaN   \n",
       "18                0.997298                             2.237516   \n",
       "11                0.997260                             2.188679   \n",
       "19                     NaN                                  NaN   \n",
       "\n",
       "    metrics.training_rmse  metrics.test_mse params.max_samples  \\\n",
       "3                0.889625          4.986947               None   \n",
       "22               0.914440          4.415960               None   \n",
       "18               0.882883          5.006476               None   \n",
       "11               0.898454          4.790314               None   \n",
       "19                    NaN               NaN               None   \n",
       "\n",
       "   params.criterion params.device_id params.warm_start params.n_jobs  \\\n",
       "3     squared_error                3             False          None   \n",
       "22    squared_error             None             False          None   \n",
       "18    squared_error                3             False          None   \n",
       "11    squared_error                1             False          None   \n",
       "19             None             None              None          None   \n",
       "\n",
       "   params.bootstrap params.oob_score params.max_leaf_nodes params.nb_sample  \\\n",
       "3              True            False                  None            11897   \n",
       "22             True            False                  None            11995   \n",
       "18             True            False                  None            11897   \n",
       "11             True            False                  None            12081   \n",
       "19             None             None                  None             None   \n",
       "\n",
       "   params.month params.verbose params.nb_training_samples  \\\n",
       "3          june              0                       9517   \n",
       "22         None              0                       9596   \n",
       "18         june              0                       9517   \n",
       "11         july              0                       9664   \n",
       "19         None           None                       None   \n",
       "\n",
       "   params.min_impurity_decrease params.random_state  \\\n",
       "3                           0.0                None   \n",
       "22                          0.0                None   \n",
       "18                          0.0                None   \n",
       "11                          0.0                None   \n",
       "19                         None                None   \n",
       "\n",
       "   params.min_weight_fraction_leaf params.min_samples_leaf params.ccp_alpha  \\\n",
       "3                              0.0                       1              0.0   \n",
       "22                             0.0                       1              0.0   \n",
       "18                             0.0                       1              0.0   \n",
       "11                             0.0                       1              0.0   \n",
       "19                            None                    None             None   \n",
       "\n",
       "   params.max_depth params.n_estimators params.max_features  \\\n",
       "3              None                 100                 1.0   \n",
       "22             None                 100                 1.0   \n",
       "18             None                 100                 1.0   \n",
       "11             None                 100                 1.0   \n",
       "19             None                None                None   \n",
       "\n",
       "   params.nb_testing_samples params.min_samples_split tags.mlflow.runName  \\\n",
       "3                       2380                        2            device 3   \n",
       "22                      2399                        2      bald-panda-811   \n",
       "18                      2380                        2            device 3   \n",
       "11                      2417                        2            device 1   \n",
       "19                      None                     None                june   \n",
       "\n",
       "                              tags.estimator_class  \\\n",
       "3   sklearn.ensemble._forest.RandomForestRegressor   \n",
       "22  sklearn.ensemble._forest.RandomForestRegressor   \n",
       "18  sklearn.ensemble._forest.RandomForestRegressor   \n",
       "11  sklearn.ensemble._forest.RandomForestRegressor   \n",
       "19                                            None   \n",
       "\n",
       "                        tags.mlflow.log-model.history tags.mlflow.user  \\\n",
       "3   [{\"run_id\": \"9be1ab4d8eb0472bb56fee952ff42066\"...        tinyclues   \n",
       "22  [{\"run_id\": \"596188bf19d447a794cca59b80e63e9c\"...        tinyclues   \n",
       "18  [{\"run_id\": \"065803583559488cbe392a404bbef287\"...        tinyclues   \n",
       "11  [{\"run_id\": \"267bd077cb394143a1f8af377609e5ae\"...        tinyclues   \n",
       "19                                               None        tinyclues   \n",
       "\n",
       "                              tags.mlflow.source.name    tags.estimator_name  \\\n",
       "3   /Users/tinyclues/opt/miniconda3/envs/mlflow/li...  RandomForestRegressor   \n",
       "22  /Users/tinyclues/opt/miniconda3/envs/mlflow/li...  RandomForestRegressor   \n",
       "18  /Users/tinyclues/opt/miniconda3/envs/mlflow/li...  RandomForestRegressor   \n",
       "11  /Users/tinyclues/opt/miniconda3/envs/mlflow/li...  RandomForestRegressor   \n",
       "19  /Users/tinyclues/opt/miniconda3/envs/mlflow/li...                   None   \n",
       "\n",
       "             tags.mlflow.parentRunId tags.mlflow.source.type  \n",
       "3   2754432b207a4654a4658e2a321c2653                   LOCAL  \n",
       "22                              None                   LOCAL  \n",
       "18  48a5fdf5dc7048ad96d480591f8a578f                   LOCAL  \n",
       "11  c642630ba3414c8ca53e7d4a9a0e0a5f                   LOCAL  \n",
       "19                              None                   LOCAL  "
      ]
     },
     "execution_count": 143,
     "metadata": {},
     "output_type": "execute_result"
    }
   ],
   "source": [
    "experiment_id = mlflow.get_experiment_by_name(experiment_name).experiment_id\n",
    "all_experiment_runs_df = mlflow.search_runs(experiment_id)\n",
    "all_experiment_runs_df.sample(5)"
   ]
  },
  {
   "cell_type": "markdown",
   "id": "34ceb6e5",
   "metadata": {},
   "source": [
    "- Get the best run_id for the `device 1` in `june`: to do that we can use:\n",
    "    - `filter_string` argument to filter on the device_id and month\n",
    "    - `order_by` argument to order the results by our target metric (here test_rmse)"
   ]
  },
  {
   "cell_type": "code",
   "execution_count": 144,
   "id": "27ee300a",
   "metadata": {
    "scrolled": false
   },
   "outputs": [
    {
     "data": {
      "text/plain": [
       "'3e760d7f3ceb40f9b690ec6a95bd1ef3'"
      ]
     },
     "execution_count": 144,
     "metadata": {},
     "output_type": "execute_result"
    }
   ],
   "source": [
    "best_run_id = mlflow.search_runs(\n",
    "    experiment_id,\n",
    "    # filter on device_id 1 and month june\n",
    "    filter_string=f\"params.device_id = '1' AND params.month = 'june'\",\n",
    "    # order by the rmse\n",
    "    order_by=[\"metrics.test_rmse asc\"],\n",
    ").iloc[0][\"run_id\"]\n",
    "best_run_id"
   ]
  },
  {
   "cell_type": "markdown",
   "id": "a3b21245",
   "metadata": {},
   "source": [
    "- Create model_uri from the run_id"
   ]
  },
  {
   "cell_type": "code",
   "execution_count": 151,
   "id": "61208bd2",
   "metadata": {},
   "outputs": [
    {
     "data": {
      "text/plain": [
       "'runs:/3e760d7f3ceb40f9b690ec6a95bd1ef3/model'"
      ]
     },
     "execution_count": 151,
     "metadata": {},
     "output_type": "execute_result"
    }
   ],
   "source": [
    "model_uri = f\"runs:/{best_run_id}/model\"\n",
    "model_uri"
   ]
  },
  {
   "cell_type": "markdown",
   "id": "aabc7ba8",
   "metadata": {},
   "source": [
    "- Register model in the Registry"
   ]
  },
  {
   "cell_type": "code",
   "execution_count": 153,
   "id": "80650143",
   "metadata": {},
   "outputs": [
    {
     "name": "stderr",
     "output_type": "stream",
     "text": [
      "Registered model 'powerplant_device_2' already exists. Creating a new version of this model...\n",
      "2022/12/16 17:51:25 INFO mlflow.tracking._model_registry.client: Waiting up to 300 seconds for model version to finish creation.                     Model name: powerplant_device_2, version 6\n",
      "Created version '6' of model 'powerplant_device_2'.\n"
     ]
    },
    {
     "data": {
      "text/plain": [
       "<ModelVersion: creation_timestamp=1671209485365, current_stage='None', description='', last_updated_timestamp=1671209485365, name='powerplant_device_2', run_id='3e760d7f3ceb40f9b690ec6a95bd1ef3', run_link='', source='/tmp/mlruns/1/3e760d7f3ceb40f9b690ec6a95bd1ef3/artifacts/model', status='READY', status_message='', tags={}, user_id='', version='6'>"
      ]
     },
     "execution_count": 153,
     "metadata": {},
     "output_type": "execute_result"
    }
   ],
   "source": [
    "model_name_in_model_registry = f\"powerplant_device_{device_id}\"\n",
    "model_version = mlflow.register_model(model_uri=model_uri, name=model_name_in_model_registry)\n",
    "model_version"
   ]
  },
  {
   "cell_type": "markdown",
   "id": "38b000dc",
   "metadata": {},
   "source": [
    "- Create a function for registring a model for a given device and month"
   ]
  },
  {
   "cell_type": "code",
   "execution_count": 154,
   "id": "f24c2dce",
   "metadata": {},
   "outputs": [],
   "source": [
    "def register_iot_device_model_with_best_rmse(month: str, device_id: int, experiment_name: str):\n",
    "    experiment_id = mlflow.get_experiment_by_name(experiment_name).experiment_id\n",
    "    run_id = mlflow.search_runs(\n",
    "        experiment_id,\n",
    "        order_by=['metrics.test_rmse asc'],\n",
    "        filter_string=f\"params.device_id = '{device_id}' AND params.month = '{month}'\"\n",
    "    ).iloc[0][\"run_id\"]\n",
    "    \n",
    "    model_name_in_model_registry = f\"powerplant_device_{device_id}\"\n",
    "    model_version = mlflow.register_model(model_uri=f\"runs:/{run_id}/model\", name=model_name_in_model_registry)\n",
    "    return model_version"
   ]
  },
  {
   "cell_type": "code",
   "execution_count": 164,
   "id": "c51e30ab",
   "metadata": {},
   "outputs": [
    {
     "name": "stderr",
     "output_type": "stream",
     "text": [
      "Registered model 'powerplant_device_3' already exists. Creating a new version of this model...\n",
      "2022/12/16 18:03:23 INFO mlflow.tracking._model_registry.client: Waiting up to 300 seconds for model version to finish creation.                     Model name: powerplant_device_3, version 4\n",
      "Created version '4' of model 'powerplant_device_3'.\n",
      "Registered model 'powerplant_device_4' already exists. Creating a new version of this model...\n",
      "2022/12/16 18:03:23 INFO mlflow.tracking._model_registry.client: Waiting up to 300 seconds for model version to finish creation.                     Model name: powerplant_device_4, version 4\n",
      "Created version '4' of model 'powerplant_device_4'.\n",
      "Registered model 'powerplant_device_1' already exists. Creating a new version of this model...\n",
      "2022/12/16 18:03:23 INFO mlflow.tracking._model_registry.client: Waiting up to 300 seconds for model version to finish creation.                     Model name: powerplant_device_1, version 7\n",
      "Created version '7' of model 'powerplant_device_1'.\n",
      "Registered model 'powerplant_device_2' already exists. Creating a new version of this model...\n",
      "2022/12/16 18:03:23 INFO mlflow.tracking._model_registry.client: Waiting up to 300 seconds for model version to finish creation.                     Model name: powerplant_device_2, version 8\n",
      "Created version '8' of model 'powerplant_device_2'.\n"
     ]
    }
   ],
   "source": [
    "current_month = \"june\"\n",
    "for device_id in df.device_id.unique():\n",
    "    _ = register_iot_device_model_with_best_rmse(\n",
    "        month=current_month, device_id=device_id, experiment_name=experiment_name\n",
    "    )"
   ]
  },
  {
   "cell_type": "markdown",
   "id": "460e5e9f",
   "metadata": {},
   "source": [
    "## 4.2. Transition an MLflow Model between different stages\n",
    "\n",
    "Documentation => https://mlflow.org/docs/latest/model-registry.html#transitioning-an-mlflow-models-stage"
   ]
  },
  {
   "cell_type": "code",
   "execution_count": 156,
   "id": "f13db16d",
   "metadata": {},
   "outputs": [],
   "source": [
    "client = MlflowClient()"
   ]
  },
  {
   "cell_type": "code",
   "execution_count": 56,
   "id": "ca3bfe0e",
   "metadata": {
    "scrolled": true
   },
   "outputs": [
    {
     "name": "stdout",
     "output_type": "stream",
     "text": [
      "Help on method transition_model_version_stage in module mlflow.tracking.client:\n",
      "\n",
      "transition_model_version_stage(name: str, version: str, stage: str, archive_existing_versions: bool = False) -> mlflow.entities.model_registry.model_version.ModelVersion method of mlflow.tracking.client.MlflowClient instance\n",
      "    Update model version stage.\n",
      "    \n",
      "    :param name: Registered model name.\n",
      "    :param version: Registered model version.\n",
      "    :param stage: New desired stage for this model version.\n",
      "    :param archive_existing_versions: If this flag is set to ``True``, all existing model\n",
      "        versions in the stage will be automatically moved to the \"archived\" stage. Only valid\n",
      "        when ``stage`` is ``\"staging\"`` or ``\"production\"`` otherwise an error will be raised.\n",
      "    \n",
      "    :return: A single :py:class:`mlflow.entities.model_registry.ModelVersion` object.\n",
      "    \n",
      "    .. code-block:: python\n",
      "        :caption: Example\n",
      "    \n",
      "        import mlflow.sklearn\n",
      "        from mlflow import MlflowClient\n",
      "        from sklearn.ensemble import RandomForestRegressor\n",
      "    \n",
      "        def print_model_version_info(mv):\n",
      "            print(\"Name: {}\".format(mv.name))\n",
      "            print(\"Version: {}\".format(mv.version))\n",
      "            print(\"Description: {}\".format(mv.description))\n",
      "            print(\"Stage: {}\".format(mv.current_stage))\n",
      "    \n",
      "        mlflow.set_tracking_uri(\"sqlite:///mlruns.db\")\n",
      "        params = {\"n_estimators\": 3, \"random_state\": 42}\n",
      "        name = \"RandomForestRegression\"\n",
      "        desc = \"A new version of the model using ensemble trees\"\n",
      "        rfr = RandomForestRegressor(**params).fit([[0, 1]], [1])\n",
      "    \n",
      "        # Log MLflow entities\n",
      "        with mlflow.start_run() as run:\n",
      "            mlflow.log_params(params)\n",
      "            mlflow.sklearn.log_model(rfr, artifact_path=\"sklearn-model\")\n",
      "    \n",
      "         # Register model name in the model registry\n",
      "        client = MlflowClient()\n",
      "        client.create_registered_model(name)\n",
      "    \n",
      "         # Create a new version of the rfr model under the registered model name\n",
      "        model_uri = \"runs:/{}/sklearn-model\".format(run.info.run_id)\n",
      "        mv = client.create_model_version(name, model_uri, run.info.run_id, description=desc)\n",
      "        print_model_version_info(mv)\n",
      "        print(\"--\")\n",
      "    \n",
      "        # transition model version from None -> staging\n",
      "        mv = client.transition_model_version_stage(name, mv.version, \"staging\")\n",
      "        print_model_version_info(mv)\n",
      "    \n",
      "    .. code-block:: text\n",
      "        :caption: Output\n",
      "    \n",
      "        Name: RandomForestRegression\n",
      "        Version: 1\n",
      "        Description: A new version of the model using ensemble trees\n",
      "        Stage: None\n",
      "        --\n",
      "        Name: RandomForestRegression\n",
      "        Version: 1\n",
      "        Description: A new version of the model using ensemble trees\n",
      "        Stage: Staging\n",
      "\n"
     ]
    }
   ],
   "source": [
    "help(client.transition_model_version_stage)"
   ]
  },
  {
   "cell_type": "markdown",
   "id": "742077dd",
   "metadata": {},
   "source": [
    "- Transition a model using the model_name and model_version_number"
   ]
  },
  {
   "cell_type": "code",
   "execution_count": 157,
   "id": "79ca8e46",
   "metadata": {},
   "outputs": [],
   "source": [
    "model_version = client.transition_model_version_stage(\n",
    "    name=\"powerplant_device_1\", version=4, stage=\"Production\", archive_existing_versions=True)"
   ]
  },
  {
   "cell_type": "code",
   "execution_count": 158,
   "id": "b4e6bb8e",
   "metadata": {},
   "outputs": [],
   "source": [
    "model_version = client.transition_model_version_stage(\n",
    "    name=\"powerplant_device_1\", version=5, stage=\"Staging\", archive_existing_versions=True)"
   ]
  },
  {
   "cell_type": "code",
   "execution_count": 159,
   "id": "9b1e3a04",
   "metadata": {},
   "outputs": [
    {
     "data": {
      "text/plain": [
       "<ModelVersion: creation_timestamp=1671190157448, current_stage='Staging', description='', last_updated_timestamp=1671209630176, name='powerplant_device_1', run_id='3e760d7f3ceb40f9b690ec6a95bd1ef3', run_link='', source='/tmp/mlruns/1/3e760d7f3ceb40f9b690ec6a95bd1ef3/artifacts/model', status='READY', status_message='', tags={}, user_id='', version='5'>"
      ]
     },
     "execution_count": 159,
     "metadata": {},
     "output_type": "execute_result"
    }
   ],
   "source": [
    "model_version"
   ]
  },
  {
   "cell_type": "markdown",
   "id": "aa959e7d",
   "metadata": {},
   "source": [
    "- Transition a model using its model_version"
   ]
  },
  {
   "cell_type": "code",
   "execution_count": 160,
   "id": "452959ed",
   "metadata": {},
   "outputs": [
    {
     "name": "stdout",
     "output_type": "stream",
     "text": [
      "Model name = powerplant_device_1, model version = 5, stage = Staging\n"
     ]
    }
   ],
   "source": [
    "print(f\"Model name = {model_version.name}, model version = {model_version.version},\"\\\n",
    "      f\" stage = {model_version.current_stage}\")"
   ]
  },
  {
   "cell_type": "code",
   "execution_count": 161,
   "id": "c7d30244",
   "metadata": {},
   "outputs": [
    {
     "name": "stdout",
     "output_type": "stream",
     "text": [
      "Model name = powerplant_device_1, model version = 5, stage = Archived\n"
     ]
    }
   ],
   "source": [
    "model_version = client.transition_model_version_stage(\n",
    "    name=model_version.name, version=model_version.version, stage=\"archived\")\n",
    "print(f\"Model name = {model_version.name}, model version = {model_version.version},\"\\\n",
    "      f\" stage = {model_version.current_stage}\")"
   ]
  },
  {
   "cell_type": "markdown",
   "id": "c0b1a4d3",
   "metadata": {},
   "source": [
    "- Create a function that takes a model_version and a stage and transition the model to a given stage"
   ]
  },
  {
   "cell_type": "code",
   "execution_count": 162,
   "id": "2bf147ee",
   "metadata": {},
   "outputs": [],
   "source": [
    "def transition_model_to_a_new_stage(model_version, stage: str, archive_existing_versions: bool = True):\n",
    "    valid_stage_values = [\"staging\", \"production\", \"archived\", \"none\"]\n",
    "    assert stage.lower() in valid_stage_values, f\"Invalid stage: {stage}. Valid stage values = {valid_stage_values}\"\n",
    "    client = MlflowClient()\n",
    "    updated_model_version = client.transition_model_version_stage(\n",
    "        name=model_version.name, version=model_version.version, stage=stage,\n",
    "        archive_existing_versions=archive_existing_versions\n",
    "    )\n",
    "    return updated_model_version"
   ]
  },
  {
   "cell_type": "code",
   "execution_count": 171,
   "id": "1dac86be",
   "metadata": {},
   "outputs": [
    {
     "name": "stdout",
     "output_type": "stream",
     "text": [
      "Model name = powerplant_device_1, model version = 5, stage = Archived\n"
     ]
    }
   ],
   "source": [
    "updated_model_version = transition_model_to_a_new_stage(model_version, \"Staging\")\n",
    "print(f\"Model name = {model_version.name}, model version = {model_version.version},\"\\\n",
    "      f\" stage = {model_version.current_stage}\")"
   ]
  },
  {
   "cell_type": "markdown",
   "id": "78c8e59a",
   "metadata": {},
   "source": [
    "## 4.3. Fetch an MLflow Model from the Model Registry"
   ]
  },
  {
   "cell_type": "markdown",
   "id": "1a7ee03b",
   "metadata": {},
   "source": [
    "- Get all the latest version for a given model in all the stages"
   ]
  },
  {
   "cell_type": "code",
   "execution_count": 172,
   "id": "78dfc9a3",
   "metadata": {},
   "outputs": [
    {
     "data": {
      "text/plain": [
       "[<ModelVersion: creation_timestamp=1671210203744, current_stage='None', description='', last_updated_timestamp=1671210203744, name='powerplant_device_1', run_id='3e760d7f3ceb40f9b690ec6a95bd1ef3', run_link='', source='/tmp/mlruns/1/3e760d7f3ceb40f9b690ec6a95bd1ef3/artifacts/model', status='READY', status_message='', tags={}, user_id='', version='7'>,\n",
       " <ModelVersion: creation_timestamp=1671190060068, current_stage='Archived', description='', last_updated_timestamp=1671210506574, name='powerplant_device_1', run_id='3e760d7f3ceb40f9b690ec6a95bd1ef3', run_link='', source='/tmp/mlruns/1/3e760d7f3ceb40f9b690ec6a95bd1ef3/artifacts/model', status='READY', status_message='', tags={}, user_id='', version='4'>,\n",
       " <ModelVersion: creation_timestamp=1671190157448, current_stage='Production', description='', last_updated_timestamp=1671210506574, name='powerplant_device_1', run_id='3e760d7f3ceb40f9b690ec6a95bd1ef3', run_link='', source='/tmp/mlruns/1/3e760d7f3ceb40f9b690ec6a95bd1ef3/artifacts/model', status='READY', status_message='', tags={}, user_id='', version='5'>]"
      ]
     },
     "execution_count": 172,
     "metadata": {},
     "output_type": "execute_result"
    }
   ],
   "source": [
    "latest_model_version_list = client.get_latest_versions(name=\"powerplant_device_1\")\n",
    "latest_model_version_list"
   ]
  },
  {
   "cell_type": "code",
   "execution_count": 173,
   "id": "8b610287",
   "metadata": {},
   "outputs": [
    {
     "name": "stdout",
     "output_type": "stream",
     "text": [
      "Model version 7 is the latest version in the stage * None *\n",
      "Model version 4 is the latest version in the stage * Archived *\n",
      "Model version 5 is the latest version in the stage * Production *\n"
     ]
    }
   ],
   "source": [
    "for latest_model_version in latest_model_version_list:\n",
    "    model_version = latest_model_version.version\n",
    "    model_stage = latest_model_version.current_stage\n",
    "    print(f\"Model version {model_version} is the latest version in the stage * {model_stage} *\")"
   ]
  },
  {
   "cell_type": "markdown",
   "id": "ba940566",
   "metadata": {},
   "source": [
    "### Use case 1: get the model in Production and make predictions with"
   ]
  },
  {
   "cell_type": "markdown",
   "id": "040832de",
   "metadata": {},
   "source": [
    "- Get the models in the Production stage"
   ]
  },
  {
   "cell_type": "code",
   "execution_count": 175,
   "id": "a9636837",
   "metadata": {},
   "outputs": [
    {
     "data": {
      "text/plain": [
       "<ModelVersion: creation_timestamp=1671190157448, current_stage='Production', description='', last_updated_timestamp=1671210506574, name='powerplant_device_1', run_id='3e760d7f3ceb40f9b690ec6a95bd1ef3', run_link='', source='/tmp/mlruns/1/3e760d7f3ceb40f9b690ec6a95bd1ef3/artifacts/model', status='READY', status_message='', tags={}, user_id='', version='5'>"
      ]
     },
     "execution_count": 175,
     "metadata": {},
     "output_type": "execute_result"
    }
   ],
   "source": [
    "production_model_version = client.get_latest_versions(name=\"powerplant_device_1\", stages=[\"Production\"])[0]\n",
    "production_model_version"
   ]
  },
  {
   "cell_type": "markdown",
   "id": "02db93c8",
   "metadata": {},
   "source": [
    "- Get model uri in the MLflow Registry"
   ]
  },
  {
   "cell_type": "code",
   "execution_count": 177,
   "id": "763050b0",
   "metadata": {},
   "outputs": [],
   "source": [
    "model_uri = f\"models:/{production_model_version.name}/{production_model_version.version}\""
   ]
  },
  {
   "cell_type": "markdown",
   "id": "32ae9e79",
   "metadata": {},
   "source": [
    "- Load the model"
   ]
  },
  {
   "cell_type": "code",
   "execution_count": 178,
   "id": "c6f967c2",
   "metadata": {},
   "outputs": [],
   "source": [
    "model = mlflow.pyfunc.load_model(model_uri=model_uri)"
   ]
  },
  {
   "cell_type": "markdown",
   "id": "77b11fde",
   "metadata": {},
   "source": [
    "- Make predictions with the model"
   ]
  },
  {
   "cell_type": "code",
   "execution_count": 179,
   "id": "703fbea1",
   "metadata": {},
   "outputs": [
    {
     "data": {
      "text/plain": [
       "array([448.6766, 431.599 , 494.2972, 448.1004, 467.1803])"
      ]
     },
     "execution_count": 179,
     "metadata": {},
     "output_type": "execute_result"
    }
   ],
   "source": [
    "inference_df = df[df['device_id'] == 1][['AT', 'V', 'AP', 'RH']].sample(5)\n",
    "model.predict(inference_df)"
   ]
  },
  {
   "cell_type": "markdown",
   "id": "c0d6597c",
   "metadata": {},
   "source": [
    "### Use case 2 (shadow_production): get the models in Production and Staging and make predictions with"
   ]
  },
  {
   "cell_type": "code",
   "execution_count": 110,
   "id": "1a865fba",
   "metadata": {},
   "outputs": [],
   "source": [
    "# TODO"
   ]
  },
  {
   "cell_type": "markdown",
   "id": "82a60217",
   "metadata": {},
   "source": [
    "# 5. Training pipeline"
   ]
  },
  {
   "cell_type": "markdown",
   "id": "a3b275f8",
   "metadata": {},
   "source": [
    "In this step, we will be creating a training pipeline:\n",
    "1. Train the candidate model on the new data\n",
    "2. Evaluate the candidate model on the ground truth dataset\n",
    "3. Get the baseline model from the ModelRegistry and evaluate it on the ground truth dataset\n",
    "4. Compare the candidate and baseline metrics, if they are better, register the candidate model in the ModelRegistry and transition it to Production\n",
    "\n",
    "Bonus:\n",
    "- check if we have enough data for training before launching the pipeline"
   ]
  },
  {
   "cell_type": "markdown",
   "id": "e9e76b01",
   "metadata": {},
   "source": [
    "## 5.1. Simulate data drift"
   ]
  },
  {
   "cell_type": "code",
   "execution_count": 111,
   "id": "9fe146ca",
   "metadata": {},
   "outputs": [],
   "source": [
    "# TODO"
   ]
  },
  {
   "cell_type": "markdown",
   "id": "d78156c3",
   "metadata": {},
   "source": [
    "## 5.2. Create the training pipeline"
   ]
  },
  {
   "cell_type": "code",
   "execution_count": 112,
   "id": "b1c06aac",
   "metadata": {},
   "outputs": [],
   "source": [
    "# TODO"
   ]
  }
 ],
 "metadata": {
  "kernelspec": {
   "display_name": "Python 3 (ipykernel)",
   "language": "python",
   "name": "python3"
  },
  "language_info": {
   "codemirror_mode": {
    "name": "ipython",
    "version": 3
   },
   "file_extension": ".py",
   "mimetype": "text/x-python",
   "name": "python",
   "nbconvert_exporter": "python",
   "pygments_lexer": "ipython3",
   "version": "3.10.8"
  },
  "toc": {
   "base_numbering": 1,
   "nav_menu": {},
   "number_sections": true,
   "sideBar": true,
   "skip_h1_title": false,
   "title_cell": "Table of Contents",
   "title_sidebar": "Contents",
   "toc_cell": false,
   "toc_position": {},
   "toc_section_display": true,
   "toc_window_display": false
  }
 },
 "nbformat": 4,
 "nbformat_minor": 5
}
